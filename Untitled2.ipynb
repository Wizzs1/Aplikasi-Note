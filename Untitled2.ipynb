{
  "nbformat": 4,
  "nbformat_minor": 0,
  "metadata": {
    "colab": {
      "provenance": [],
      "authorship_tag": "ABX9TyP+BfryTp5vt9NYSLc7sFx4",
      "include_colab_link": true
    },
    "kernelspec": {
      "name": "python3",
      "display_name": "Python 3"
    },
    "language_info": {
      "name": "python"
    }
  },
  "cells": [
    {
      "cell_type": "markdown",
      "metadata": {
        "id": "view-in-github",
        "colab_type": "text"
      },
      "source": [
        "<a href=\"https://colab.research.google.com/github/Wizzs1/Aplikasi-Note/blob/main/Untitled2.ipynb\" target=\"_parent\"><img src=\"https://colab.research.google.com/assets/colab-badge.svg\" alt=\"Open In Colab\"/></a>"
      ]
    },
    {
      "cell_type": "code",
      "execution_count": 7,
      "metadata": {
        "id": "hy4kenMipP7m"
      },
      "outputs": [],
      "source": [
        "from collections import deque\n",
        "import heapq\n",
        "\n",
        "graph = {\n",
        "'A': {'B': 1, 'C': 4},\n",
        "'B': {'D': 2, 'E': 5},\n",
        "'C': {'F': 3},\n",
        "'D': {},\n",
        "'E': {'F': 1},\n",
        "'F': {}\n",
        "}"
      ]
    },
    {
      "cell_type": "code",
      "source": [
        "def bfs(graph, start, goal):\n",
        "  queue = deque([[start]])\n",
        "  visited = set()\n",
        "\n",
        "  while queue:\n",
        "    path = queue.popleft()\n",
        "    node = path[-1]\n",
        "    print(f\"Exploring BFS Node: {node}\")\n",
        "\n",
        "    if node == goal:\n",
        "      return path\n",
        "\n",
        "    if node not in visited:\n",
        "      visited.add(node)\n",
        "      for neighbor in graph[node]:\n",
        "        new_path = list(path)\n",
        "        new_path.append(neighbor)\n",
        "        queue.append(new_path)\n",
        "  return None"
      ],
      "metadata": {
        "id": "5zxVgoaYpgsZ"
      },
      "execution_count": 8,
      "outputs": []
    },
    {
      "cell_type": "code",
      "source": [
        "def dfs(graph, start, goal):\n",
        "  stack = [[start]]\n",
        "  visited = set()\n",
        "\n",
        "  while stack:\n",
        "    path = stack.pop()\n",
        "    node = path[-1]\n",
        "    print(f\"Exploring DFS Node: {node}\")\n",
        "\n",
        "    if node == goal:\n",
        "      return path\n",
        "\n",
        "    if node not in visited:\n",
        "      visited.add(node)\n",
        "      for neighbor in reversed(graph[node]):\n",
        "        new_path = list(path)\n",
        "        new_path.append(neighbor)\n",
        "        stack.append(new_path)\n",
        "  return None"
      ],
      "metadata": {
        "id": "RSsogduyp0-s"
      },
      "execution_count": 10,
      "outputs": []
    },
    {
      "cell_type": "code",
      "source": [
        "def ucs(graph, start, goal):\n",
        "  pq = [(0, [start])]  # (cost, path)\n",
        "  visited = set()\n",
        "\n",
        "  while pq:\n",
        "    cost, path = heapq.heappop(pq)\n",
        "    node = path[-1]\n",
        "    print(f\"Exploring UCS Node: {node} | Cost: {cost}\")\n",
        "\n",
        "    if node == goal:\n",
        "      return path, cost\n",
        "\n",
        "    if node not in visited:\n",
        "      visited.add(node)\n",
        "      for neighbor, weight in graph[node].items():\n",
        "        new_path = list(path)\n",
        "        new_path.append(neighbor)\n",
        "        heapq.heappush(pq, (cost + weight, new_path))\n",
        "\n",
        "  return None, float('inf')"
      ],
      "metadata": {
        "id": "aCTAq6TaqDh3"
      },
      "execution_count": 13,
      "outputs": []
    },
    {
      "cell_type": "code",
      "source": [
        "if __name__ == \"__main__\":\n",
        "  start_node = 'A'\n",
        "  goal_node = 'F'\n",
        "\n",
        "  print(\"===== BREADTH-FIRST SEARCH =====\")\n",
        "  bfs_path = bfs(graph, start_node, goal_node)\n",
        "  print(\"Hasil BFS:\", bfs_path, \"\\n\")\n",
        "\n",
        "  print(\"===== DEPTH-FIRST SEARCH =====\")\n",
        "  dfs_path = dfs(graph, start_node, goal_node)\n",
        "  print(\"Hasil DFS:\", dfs_path, \"\\n\")\n",
        "\n",
        "  print(\"===== UNIFORM COST SEARCH =====\")\n",
        "  ucs_path, total_cost = ucs(graph, start_node, goal_node)\n",
        "  print(\"Hasil UCS:\", ucs_path, \"| Total Cost:\", total_cost)"
      ],
      "metadata": {
        "colab": {
          "base_uri": "https://localhost:8080/"
        },
        "id": "KyyJoOsbqPAr",
        "outputId": "9014226f-124d-43f1-c8ba-919fd1411564"
      },
      "execution_count": 14,
      "outputs": [
        {
          "output_type": "stream",
          "name": "stdout",
          "text": [
            "===== BREADTH-FIRST SEARCH =====\n",
            "Exploring BFS Node: A\n",
            "Exploring BFS Node: B\n",
            "Exploring BFS Node: C\n",
            "Exploring BFS Node: D\n",
            "Exploring BFS Node: E\n",
            "Exploring BFS Node: F\n",
            "Hasil BFS: ['A', 'C', 'F'] \n",
            "\n",
            "===== DEPTH-FIRST SEARCH =====\n",
            "Exploring DFS Node: A\n",
            "Exploring DFS Node: B\n",
            "Exploring DFS Node: D\n",
            "Exploring DFS Node: E\n",
            "Exploring DFS Node: F\n",
            "Hasil DFS: ['A', 'B', 'E', 'F'] \n",
            "\n",
            "===== UNIFORM COST SEARCH =====\n",
            "Exploring UCS Node: A | Cost: 0\n",
            "Exploring UCS Node: B | Cost: 1\n",
            "Exploring UCS Node: D | Cost: 3\n",
            "Exploring UCS Node: C | Cost: 4\n",
            "Exploring UCS Node: E | Cost: 6\n",
            "Exploring UCS Node: F | Cost: 7\n",
            "Hasil UCS: ['A', 'B', 'E', 'F'] | Total Cost: 7\n"
          ]
        }
      ]
    }
  ]
}